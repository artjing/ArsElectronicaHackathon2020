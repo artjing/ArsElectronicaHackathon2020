{
 "cells": [
  {
   "cell_type": "code",
   "execution_count": null,
   "metadata": {},
   "outputs": [],
   "source": [
    "#no error should be returned\n",
    "import tensorflow as tf\n",
    "import ddsp\n",
    "#@title Install and import dependencies\n",
    "\n",
    "\n",
    "# Ignore a bunch of deprecation warnings\n",
    "import warnings\n",
    "warnings.filterwarnings(\"ignore\")\n",
    "\n",
    "import ddsp\n",
    "import ddsp.training\n",
    "from ddsp.colab.colab_utils import play, specplot, DEFAULT_SAMPLE_RATE\n",
    "import matplotlib.pyplot as plt\n",
    "import numpy as np\n",
    "import tensorflow as tf\n",
    "\n",
    "sample_rate = DEFAULT_SAMPLE_RATE  # 16000"
   ]
  },
  {
   "cell_type": "code",
   "execution_count": null,
   "metadata": {},
   "outputs": [],
   "source": [
    "n_frames = 1000\n",
    "hop_size = 64\n",
    "n_samples = n_frames * hop_size\n",
    "\n",
    "# Create a synthesizer object.\n",
    "additive_synth = ddsp.synths.Additive(n_samples=n_samples,\n",
    "                                      sample_rate=sample_rate,\n",
    "                                      name='additive_synth')"
   ]
  },
  {
   "cell_type": "code",
   "execution_count": null,
   "metadata": {},
   "outputs": [],
   "source": [
    "# Generate some arbitrary inputs.\n",
    "\n",
    "# Amplitude [batch, n_frames, 1].\n",
    "# Make amplitude linearly decay over time.\n",
    "amps = np.linspace(1.0, -3.0, n_frames)\n",
    "amps = amps[np.newaxis, :, np.newaxis]\n",
    "\n",
    "# Harmonic Distribution [batch, n_frames, n_harmonics].\n",
    "# Make harmonics decrease linearly with frequency.\n",
    "n_harmonics = 30\n",
    "harmonic_distribution = (np.linspace(-2.0, 2.0, n_frames)[:, np.newaxis] + \n",
    "                         np.linspace(3.0, -3.0, n_harmonics)[np.newaxis, :])\n",
    "harmonic_distribution = harmonic_distribution[np.newaxis, :, :]\n",
    "\n",
    "# Fundamental frequency in Hz [batch, n_frames, 1].\n",
    "f0_hz = 440.0 * np.ones([1, n_frames, 1], dtype=np.float32)"
   ]
  },
  {
   "cell_type": "code",
   "execution_count": null,
   "metadata": {},
   "outputs": [],
   "source": [
    "# Plot it!\n",
    "time = np.linspace(0, n_samples / sample_rate, n_frames)\n",
    "\n",
    "plt.figure(figsize=(18, 4))\n",
    "plt.subplot(131)\n",
    "plt.plot(time, amps[0, :, 0])\n",
    "plt.xticks([0, 1, 2, 3, 4])\n",
    "plt.title('Amplitude')\n",
    "\n",
    "plt.subplot(132)\n",
    "plt.plot(time, harmonic_distribution[0, :, :])\n",
    "plt.xticks([0, 1, 2, 3, 4])\n",
    "plt.title('Harmonic Distribution')\n",
    "\n",
    "plt.subplot(133)\n",
    "plt.plot(time, f0_hz[0, :, 0])\n",
    "plt.xticks([0, 1, 2, 3, 4])\n",
    "_ = plt.title('Fundamental Frequency')"
   ]
  },
  {
   "cell_type": "code",
   "execution_count": null,
   "metadata": {},
   "outputs": [],
   "source": [
    "controls = additive_synth.get_controls(amps, harmonic_distribution, f0_hz)\n",
    "print(controls.keys())"
   ]
  },
  {
   "cell_type": "code",
   "execution_count": null,
   "metadata": {},
   "outputs": [],
   "source": []
  }
 ],
 "metadata": {
  "kernelspec": {
   "display_name": "Python 3",
   "language": "python",
   "name": "python3"
  },
  "language_info": {
   "codemirror_mode": {
    "name": "ipython",
    "version": 3
   },
   "file_extension": ".py",
   "mimetype": "text/x-python",
   "name": "python",
   "nbconvert_exporter": "python",
   "pygments_lexer": "ipython3",
   "version": "3.7.5"
  }
 },
 "nbformat": 4,
 "nbformat_minor": 4
}
